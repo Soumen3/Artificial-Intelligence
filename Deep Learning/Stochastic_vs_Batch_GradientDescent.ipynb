{
 "cells": [
  {
   "cell_type": "code",
   "execution_count": 1,
   "metadata": {},
   "outputs": [],
   "source": [
    "import pandas as pd \n",
    "import numpy as np\n",
    "import matplotlib.pyplot as plt"
   ]
  },
  {
   "cell_type": "code",
   "execution_count": 2,
   "metadata": {},
   "outputs": [
    {
     "data": {
      "text/html": [
       "<div>\n",
       "<style scoped>\n",
       "    .dataframe tbody tr th:only-of-type {\n",
       "        vertical-align: middle;\n",
       "    }\n",
       "\n",
       "    .dataframe tbody tr th {\n",
       "        vertical-align: top;\n",
       "    }\n",
       "\n",
       "    .dataframe thead th {\n",
       "        text-align: right;\n",
       "    }\n",
       "</style>\n",
       "<table border=\"1\" class=\"dataframe\">\n",
       "  <thead>\n",
       "    <tr style=\"text-align: right;\">\n",
       "      <th></th>\n",
       "      <th>area</th>\n",
       "      <th>bedrooms</th>\n",
       "      <th>price</th>\n",
       "    </tr>\n",
       "  </thead>\n",
       "  <tbody>\n",
       "    <tr>\n",
       "      <th>15</th>\n",
       "      <td>1175</td>\n",
       "      <td>2</td>\n",
       "      <td>42.0</td>\n",
       "    </tr>\n",
       "    <tr>\n",
       "      <th>10</th>\n",
       "      <td>1800</td>\n",
       "      <td>3</td>\n",
       "      <td>82.0</td>\n",
       "    </tr>\n",
       "    <tr>\n",
       "      <th>13</th>\n",
       "      <td>1100</td>\n",
       "      <td>2</td>\n",
       "      <td>40.0</td>\n",
       "    </tr>\n",
       "    <tr>\n",
       "      <th>18</th>\n",
       "      <td>2770</td>\n",
       "      <td>3</td>\n",
       "      <td>102.0</td>\n",
       "    </tr>\n",
       "    <tr>\n",
       "      <th>5</th>\n",
       "      <td>1170</td>\n",
       "      <td>2</td>\n",
       "      <td>38.0</td>\n",
       "    </tr>\n",
       "  </tbody>\n",
       "</table>\n",
       "</div>"
      ],
      "text/plain": [
       "    area  bedrooms  price\n",
       "15  1175         2   42.0\n",
       "10  1800         3   82.0\n",
       "13  1100         2   40.0\n",
       "18  2770         3  102.0\n",
       "5   1170         2   38.0"
      ]
     },
     "execution_count": 2,
     "metadata": {},
     "output_type": "execute_result"
    }
   ],
   "source": [
    "df = pd.read_csv('data/homeprices_banglore.csv')\n",
    "df.sample(5)"
   ]
  },
  {
   "cell_type": "code",
   "execution_count": 3,
   "metadata": {},
   "outputs": [
    {
     "data": {
      "text/plain": [
       "(20, 3)"
      ]
     },
     "execution_count": 3,
     "metadata": {},
     "output_type": "execute_result"
    }
   ],
   "source": [
    "df.shape"
   ]
  },
  {
   "cell_type": "code",
   "execution_count": 4,
   "metadata": {},
   "outputs": [],
   "source": [
    "from sklearn.preprocessing import MinMaxScaler"
   ]
  },
  {
   "cell_type": "code",
   "execution_count": 5,
   "metadata": {},
   "outputs": [],
   "source": [
    "sx= MinMaxScaler()\n",
    "sy= MinMaxScaler()"
   ]
  },
  {
   "cell_type": "code",
   "execution_count": 13,
   "metadata": {},
   "outputs": [],
   "source": [
    "scaled_X = sx.fit_transform(df.drop('price',axis='columns'))\n",
    "scaled_y = sy.fit_transform(df['price'].values.reshape(df.shape[0],1))"
   ]
  },
  {
   "cell_type": "markdown",
   "metadata": {},
   "source": [
    "<h2 style=\"color:cyan\"> Batch Gradient Descent </h2>"
   ]
  },
  {
   "cell_type": "code",
   "execution_count": 43,
   "metadata": {},
   "outputs": [],
   "source": [
    "def batch_gradient_descent(X, y_true, epochs, learning_rate = 0.01):\n",
    "\tnumber_of_features = X.shape[1]\n",
    "\tw = np.ones(shape=(number_of_features))\n",
    "\tb = 0\n",
    "\ttotal_samples = X.shape[0]\n",
    "\n",
    "\tcost_list = []\n",
    "\tepoch_list = []\n",
    "\n",
    "\tfor i in range(epochs):\n",
    "\t\t#Step 1 - Calculation of y_pred\n",
    "\t\ty_pred = np.dot(w, X.T) + b\n",
    "\n",
    "\t\tw_grad = -(2/total_samples)*(X.T.dot(y_true-y_pred))\n",
    "\t\tb_grad = -(2/total_samples)*np.sum(y_true-y_pred)\n",
    "\n",
    "\t\tw = w - learning_rate * w_grad\n",
    "\t\tb = b - learning_rate * b_grad\n",
    "\n",
    "\t\tcost = np.square(y_true-y_pred).mean()\n",
    "\n",
    "\t\tif i%10==0:\n",
    "\t\t\tcost_list.append(cost)\n",
    "\t\t\tepoch_list.append(i)\n",
    "\t\t\t# print(f'Epoch {i}: w: {w}, b: {b}, cost: {cost}')\n",
    "\t\t\n",
    "\treturn w, b, cost, cost_list, epoch_list\n",
    "\t"
   ]
  },
  {
   "cell_type": "code",
   "execution_count": 44,
   "metadata": {},
   "outputs": [],
   "source": [
    "w, b, cost, cost_list, epoch_list = batch_gradient_descent(scaled_X, scaled_y.reshape(scaled_y.shape[0],), 500)"
   ]
  },
  {
   "cell_type": "code",
   "execution_count": 45,
   "metadata": {},
   "outputs": [
    {
     "data": {
      "text/plain": [
       "(array([0.70712464, 0.67456527]),\n",
       " -0.23034857438407427,\n",
       " 0.0068641890429808105,\n",
       " [0.2768777174681,\n",
       "  0.16573507027671064,\n",
       "  0.10212908135956808,\n",
       "  0.06564235879682481,\n",
       "  0.04463022365578522,\n",
       "  0.03245122421764872,\n",
       "  0.025317339083010492,\n",
       "  0.021067914076635823,\n",
       "  0.01847041893523527,\n",
       "  0.016821657535428185,\n",
       "  0.015720331469182485,\n",
       "  0.014937329116527901,\n",
       "  0.014341749105819087,\n",
       "  0.0138587099774241,\n",
       "  0.013445288028074867,\n",
       "  0.013076793952344979,\n",
       "  0.012738945874049962,\n",
       "  0.012423405193086517,\n",
       "  0.012125230310262438,\n",
       "  0.011841424159334757,\n",
       "  0.011570105565415722,\n",
       "  0.011310036391930275,\n",
       "  0.01106035160957391,\n",
       "  0.010820405104702651,\n",
       "  0.010589681505198633,\n",
       "  0.010367745666240432,\n",
       "  0.010154213642862602,\n",
       "  0.009948735925187012,\n",
       "  0.009750987675343718,\n",
       "  0.009560662965348804,\n",
       "  0.009377471304274599,\n",
       "  0.009201135478234784,\n",
       "  0.009031390146006546,\n",
       "  0.008867980872255637,\n",
       "  0.008710663416728342,\n",
       "  0.008559203175573597,\n",
       "  0.008413374715338717,\n",
       "  0.008272961365501463,\n",
       "  0.008137754849850727,\n",
       "  0.00800755494527638,\n",
       "  0.007882169161242129,\n",
       "  0.0077614124359100785,\n",
       "  0.007645106846431061,\n",
       "  0.007533081331802613,\n",
       "  0.0074251714272102086,\n",
       "  0.007321219009066901,\n",
       "  0.007221072050143653,\n",
       "  0.007124584384290001,\n",
       "  0.007031615480311842,\n",
       "  0.006942030224616903],\n",
       " [0,\n",
       "  10,\n",
       "  20,\n",
       "  30,\n",
       "  40,\n",
       "  50,\n",
       "  60,\n",
       "  70,\n",
       "  80,\n",
       "  90,\n",
       "  100,\n",
       "  110,\n",
       "  120,\n",
       "  130,\n",
       "  140,\n",
       "  150,\n",
       "  160,\n",
       "  170,\n",
       "  180,\n",
       "  190,\n",
       "  200,\n",
       "  210,\n",
       "  220,\n",
       "  230,\n",
       "  240,\n",
       "  250,\n",
       "  260,\n",
       "  270,\n",
       "  280,\n",
       "  290,\n",
       "  300,\n",
       "  310,\n",
       "  320,\n",
       "  330,\n",
       "  340,\n",
       "  350,\n",
       "  360,\n",
       "  370,\n",
       "  380,\n",
       "  390,\n",
       "  400,\n",
       "  410,\n",
       "  420,\n",
       "  430,\n",
       "  440,\n",
       "  450,\n",
       "  460,\n",
       "  470,\n",
       "  480,\n",
       "  490])"
      ]
     },
     "execution_count": 45,
     "metadata": {},
     "output_type": "execute_result"
    }
   ],
   "source": [
    "w,b,cost,cost_list, epoch_list"
   ]
  },
  {
   "cell_type": "code",
   "execution_count": 46,
   "metadata": {},
   "outputs": [
    {
     "data": {
      "text/plain": [
       "[<matplotlib.lines.Line2D at 0x25856f67e90>]"
      ]
     },
     "execution_count": 46,
     "metadata": {},
     "output_type": "execute_result"
    },
    {
     "data": {
      "image/png": "[encoded data removed]",
      "text/plain": [
       "<Figure size 640x480 with 1 Axes>"
      ]
     },
     "metadata": {},
     "output_type": "display_data"
    }
   ],
   "source": [
    "plt.xlabel('epoch')\n",
    "plt.ylabel('cost')\n",
    "plt.plot(epoch_list,cost_list)"
   ]
  },
  {
   "cell_type": "code",
   "execution_count": 47,
   "metadata": {},
   "outputs": [
    {
     "name": "stderr",
     "output_type": "stream",
     "text": [
      "d:\\Artificial Intelligence\\venv\\Lib\\site-packages\\sklearn\\base.py:493: UserWarning: X does not have valid feature names, but MinMaxScaler was fitted with feature names\n",
      "  warnings.warn(\n"
     ]
    },
    {
     "data": {
      "text/plain": [
       "array([[0.62068966, 0.75      ]])"
      ]
     },
     "execution_count": 47,
     "metadata": {},
     "output_type": "execute_result"
    }
   ],
   "source": [
    "sx.transform([[2600,4]])"
   ]
  },
  {
   "cell_type": "code",
   "execution_count": 54,
   "metadata": {},
   "outputs": [],
   "source": [
    "def predict(area, bedrooms, w, b):\n",
    "\tscaled_X = sx.transform([[area, bedrooms]])[0]\n",
    "\tpred_price = w[0]*scaled_X[0] + w[1]*scaled_X[1] + b\n",
    "\treturn sy.inverse_transform([[pred_price]])"
   ]
  },
  {
   "cell_type": "code",
   "execution_count": 55,
   "metadata": {},
   "outputs": [
    {
     "name": "stderr",
     "output_type": "stream",
     "text": [
      "d:\\Artificial Intelligence\\venv\\Lib\\site-packages\\sklearn\\base.py:493: UserWarning: X does not have valid feature names, but MinMaxScaler was fitted with feature names\n",
      "  warnings.warn(\n"
     ]
    },
    {
     "data": {
      "text/plain": [
       "array([[128.45484403]])"
      ]
     },
     "execution_count": 55,
     "metadata": {},
     "output_type": "execute_result"
    }
   ],
   "source": [
    "predict(2600,4,w,b)"
   ]
  },
  {
   "cell_type": "code",
   "execution_count": 56,
   "metadata": {},
   "outputs": [
    {
     "name": "stderr",
     "output_type": "stream",
     "text": [
      "d:\\Artificial Intelligence\\venv\\Lib\\site-packages\\sklearn\\base.py:493: UserWarning: X does not have valid feature names, but MinMaxScaler was fitted with feature names\n",
      "  warnings.warn(\n"
     ]
    },
    {
     "data": {
      "text/plain": [
       "array([[30.25309446]])"
      ]
     },
     "execution_count": 56,
     "metadata": {},
     "output_type": "execute_result"
    }
   ],
   "source": [
    "predict(1000,2,w,b)"
   ]
  },
  {
   "cell_type": "code",
   "execution_count": 57,
   "metadata": {},
   "outputs": [
    {
     "name": "stderr",
     "output_type": "stream",
     "text": [
      "d:\\Artificial Intelligence\\venv\\Lib\\site-packages\\sklearn\\base.py:493: UserWarning: X does not have valid feature names, but MinMaxScaler was fitted with feature names\n",
      "  warnings.warn(\n"
     ]
    },
    {
     "data": {
      "text/plain": [
       "array([[94.16701133]])"
      ]
     },
     "execution_count": 57,
     "metadata": {},
     "output_type": "execute_result"
    }
   ],
   "source": [
    "predict(2250,3,w,b)"
   ]
  },
  {
   "cell_type": "markdown",
   "metadata": {},
   "source": [
    "<h2 style=\"color:cyan\"> Stochastic Gradient Descent </h2>"
   ]
  },
  {
   "cell_type": "code",
   "execution_count": 63,
   "metadata": {},
   "outputs": [
    {
     "data": {
      "text/plain": [
       "7"
      ]
     },
     "execution_count": 63,
     "metadata": {},
     "output_type": "execute_result"
    }
   ],
   "source": [
    "import random\n",
    "random.randint(0,10)"
   ]
  },
  {
   "cell_type": "code",
   "execution_count": 64,
   "metadata": {},
   "outputs": [],
   "source": [
    "def stochastic_gradient_descent(X, y_true, epochs, learning_rate = 0.01):\n",
    "\tnumber_of_features = X.shape[1]\n",
    "\tw = np.ones(shape=(number_of_features))\n",
    "\tb = 0\n",
    "\ttotal_samples = X.shape[0]\n",
    "\n",
    "\tcost_list = []\n",
    "\tepoch_list = []\n",
    "\n",
    "\tfor i in range(epochs):\n",
    "\t\trandom_index = random.randint(0,total_samples-1)\n",
    "\t\tsample_x = X[random_index]\n",
    "\t\tsample_y = y_true[random_index]\n",
    "\n",
    "\t\ty_pred = np.dot(w, sample_x.T) + b\n",
    "\n",
    "\t\tw_grad = -(2/total_samples)*(sample_x.T.dot(sample_y-y_pred))\n",
    "\t\tb_grad = -(2/total_samples)*(sample_y-y_pred)\n",
    "\n",
    "\t\tw = w - learning_rate * w_grad\n",
    "\t\tb = b - learning_rate * b_grad\n",
    "\n",
    "\t\tcost = np.square(sample_y-y_pred).mean()\n",
    "\n",
    "\t\tif i%100==0:\n",
    "\t\t\tcost_list.append(cost)\n",
    "\t\t\tepoch_list.append(i)\n",
    "\t\t\t# print(f'Epoch {i}: w: {w}, b: {b}, cost: {cost}')\n",
    "\n",
    "\treturn w, b, cost, cost_list, epoch_list"
   ]
  },
  {
   "cell_type": "code",
   "execution_count": 65,
   "metadata": {},
   "outputs": [],
   "source": [
    "w_sgd, b_sgd, cost_sgd, cost_list_sgd, epoch_list_sgd = stochastic_gradient_descent(scaled_X, scaled_y.reshape(scaled_y.shape[0],), 10000)"
   ]
  },
  {
   "cell_type": "code",
   "execution_count": 66,
   "metadata": {},
   "outputs": [
    {
     "data": {
      "text/plain": [
       "(array([0.70480925, 0.67172049]), -0.23053993646952708, 0.006281598950225581)"
      ]
     },
     "execution_count": 66,
     "metadata": {},
     "output_type": "execute_result"
    }
   ],
   "source": [
    "w_sgd, b_sgd, cost_sgd"
   ]
  },
  {
   "cell_type": "code",
   "execution_count": 67,
   "metadata": {},
   "outputs": [
    {
     "data": {
      "text/plain": [
       "[<matplotlib.lines.Line2D at 0x258580bd4c0>]"
      ]
     },
     "execution_count": 67,
     "metadata": {},
     "output_type": "execute_result"
    },
    {
     "data": {
      "image/png": "[encoded data removed]",
      "text/plain": [
       "<Figure size 640x480 with 1 Axes>"
      ]
     },
     "metadata": {},
     "output_type": "display_data"
    }
   ],
   "source": [
    "plt.xlabel('epoch')\n",
    "plt.ylabel('cost')\n",
    "plt.plot(epoch_list_sgd,cost_list_sgd)"
   ]
  },
  {
   "cell_type": "code",
   "execution_count": 68,
   "metadata": {},
   "outputs": [],
   "source": [
    "def predict_sgd(area, bedrooms, w, b):\n",
    "\tscaled_X = sx.transform([[area, bedrooms]])[0]\n",
    "\tpred_price = w[0]*scaled_X[0] + w[1]*scaled_X[1] + b\n",
    "\treturn sy.inverse_transform([[pred_price]])"
   ]
  },
  {
   "cell_type": "code",
   "execution_count": 69,
   "metadata": {},
   "outputs": [
    {
     "name": "stderr",
     "output_type": "stream",
     "text": [
      "d:\\Artificial Intelligence\\venv\\Lib\\site-packages\\sklearn\\base.py:493: UserWarning: X does not have valid feature names, but MinMaxScaler was fitted with feature names\n",
      "  warnings.warn(\n"
     ]
    },
    {
     "data": {
      "text/plain": [
       "array([[127.94696308]])"
      ]
     },
     "execution_count": 69,
     "metadata": {},
     "output_type": "execute_result"
    }
   ],
   "source": [
    "predict_sgd(2600,4,w_sgd,b_sgd)"
   ]
  },
  {
   "cell_type": "code",
   "execution_count": null,
   "metadata": {},
   "outputs": [],
   "source": []
  }
 ],
 "metadata": {
  "kernelspec": {
   "display_name": "venv",
   "language": "python",
   "name": "python3"
  },
  "language_info": {
   "codemirror_mode": {
    "name": "ipython",
    "version": 3
   },
   "file_extension": ".py",
   "mimetype": "text/x-python",
   "name": "python",
   "nbconvert_exporter": "python",
   "pygments_lexer": "ipython3",
   "version": "3.12.3"
  }
 },
 "nbformat": 4,
 "nbformat_minor": 2
}
