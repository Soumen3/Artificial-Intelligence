{
 "cells": [
  {
   "cell_type": "code",
   "execution_count": 1,
   "id": "e74c499d-9de2-4675-abbe-b3e65b381f01",
   "metadata": {},
   "outputs": [],
   "source": [
    "import re"
   ]
  },
  {
   "cell_type": "code",
   "execution_count": 2,
   "id": "47fb1b41-8408-48c5-b885-8d86ecfb4350",
   "metadata": {},
   "outputs": [],
   "source": [
    "text =\"\"\"\n",
    "    Hi there,\n",
    "    \n",
    "    My name is John Doe, and I recently applied for the Software Developer position at your company. I wanted to follow up on my application and provide additional contact information.\n",
    "    \n",
    "    You can reach me at (123)-456-7890 or my alternative number 987-654-3210 or you can contact me at 9876543210. If you prefer email, feel free to send a message to john.doe@example.com.\n",
    "    \n",
    "    Looking forward to hearing from you.\n",
    "    \n",
    "    Best regards,  \n",
    "    John Doe\n",
    "\"\"\""
   ]
  },
  {
   "cell_type": "markdown",
   "id": "ce05f3bb-2fc3-4f60-b90c-9bccf2939545",
   "metadata": {},
   "source": [
    "### Find the phone numbers from the text"
   ]
  },
  {
   "cell_type": "code",
   "execution_count": 3,
   "id": "63b3301f-1cb5-461f-98dc-c97222169e6f",
   "metadata": {},
   "outputs": [],
   "source": [
    "pattern = r\"\\b\\d{10}|\\(\\d{3}\\)-\\d{3}-\\d{4}|\\d{3}-\\d{3}-\\d{4}\\b\""
   ]
  },
  {
   "cell_type": "code",
   "execution_count": 4,
   "id": "b8ee116e-d3a3-408c-9def-36fdc4204f67",
   "metadata": {},
   "outputs": [
    {
     "data": {
      "text/plain": [
       "['(123)-456-7890', '987-654-3210', '9876543210']"
      ]
     },
     "execution_count": 4,
     "metadata": {},
     "output_type": "execute_result"
    }
   ],
   "source": [
    "matches = re.findall(pattern, text)\n",
    "matches"
   ]
  },
  {
   "cell_type": "markdown",
   "id": "22ed60bf-fcbe-4292-a6fb-71f916244d51",
   "metadata": {},
   "source": [
    "### Find the email address from the text"
   ]
  },
  {
   "cell_type": "code",
   "execution_count": 5,
   "id": "d9278abf-0906-4568-99dd-4dc3146b2b23",
   "metadata": {},
   "outputs": [],
   "source": [
    "pattern = r\"\\b[A-Za-z0-9._%+-]+@[A-Z|a-z]+\\.[A-Z|a-z]{2,}\\b\""
   ]
  },
  {
   "cell_type": "code",
   "execution_count": 6,
   "id": "95b32ec5-ce8e-4b02-8576-2aa6dc9d20c3",
   "metadata": {},
   "outputs": [
    {
     "data": {
      "text/plain": [
       "['john.doe@example.com']"
      ]
     },
     "execution_count": 6,
     "metadata": {},
     "output_type": "execute_result"
    }
   ],
   "source": [
    "emails = re.findall(pattern,text)\n",
    "emails"
   ]
  },
  {
   "cell_type": "code",
   "execution_count": null,
   "id": "65347642-770e-4a45-909f-6f3f51b5284b",
   "metadata": {},
   "outputs": [],
   "source": []
  },
  {
   "cell_type": "code",
   "execution_count": 7,
   "id": "66bf0cb7-ff19-40ef-8d91-c8183feacadb",
   "metadata": {},
   "outputs": [],
   "source": [
    "text = \"\"\"\n",
    "    User 1:\n",
    "I’m really upset because my order hasn’t arrived yet. I ordered two weeks ago! My Order ID is ORD-2468-1012-XYZ. Can you check the status for me?\n",
    "\n",
    "Support Agent:\n",
    "I’m sorry for the delay. Let me check on that for you right away.\n",
    "\n",
    "User 2:\n",
    "I received damaged goods in my order. The Order ID is ORDER-1357-9135-ABC. What can be done about this?\n",
    "\n",
    "Support Agent:\n",
    "I apologize for the inconvenience. I’ll arrange for a replacement to be sent out immediately.\n",
    "\n",
    "User 3:\n",
    "I need to cancel my order, but I can't find the option on the website. My Order ID is ORD-1213-1415-QWE. Can you help?\n",
    "\n",
    "Support Agent:\n",
    "I can assist with that. I’ll process the cancellation for you. Please hold on a moment.\n",
    "\n",
    "\n",
    "\"\"\""
   ]
  },
  {
   "cell_type": "markdown",
   "id": "6c56e2fd-8567-41b5-a129-e1e7b559aafc",
   "metadata": {},
   "source": [
    "### find the order id"
   ]
  },
  {
   "cell_type": "code",
   "execution_count": 8,
   "id": "c251ac8d-3ff4-4705-bf2a-2b56f55794d2",
   "metadata": {},
   "outputs": [],
   "source": [
    "pattern= r\"\\bORD(?:ER)?-\\d{4}-\\d{4}-[A-Z]*\\b\""
   ]
  },
  {
   "cell_type": "code",
   "execution_count": 9,
   "id": "05098b2f-aec6-4323-a56b-31da6b97e883",
   "metadata": {},
   "outputs": [
    {
     "data": {
      "text/plain": [
       "['ORD-2468-1012-XYZ', 'ORDER-1357-9135-ABC', 'ORD-1213-1415-QWE']"
      ]
     },
     "execution_count": 9,
     "metadata": {},
     "output_type": "execute_result"
    }
   ],
   "source": [
    "order_ids = re.findall(pattern, text)\n",
    "order_ids"
   ]
  },
  {
   "cell_type": "code",
   "execution_count": null,
   "id": "200f3ea6-49ad-4450-a0e6-06a9253928ee",
   "metadata": {},
   "outputs": [],
   "source": []
  },
  {
   "cell_type": "code",
   "execution_count": null,
   "id": "c463740a-058c-4932-a41f-cdf14e257dea",
   "metadata": {},
   "outputs": [],
   "source": []
  },
  {
   "cell_type": "code",
   "execution_count": 10,
   "id": "8c1b3941-b4da-4c08-8f23-f7c8dc3a2707",
   "metadata": {},
   "outputs": [],
   "source": [
    "text =\"\"\"\n",
    "Born\tElon Reeve Musk\n",
    "June 28, 1971 (age 53)\n",
    "Pretoria, Transvaal, South Africa\n",
    "Citizenship\t\n",
    "South Africa\n",
    "Canada\n",
    "United States (from 2002)\n",
    "Education\tUniversity of Pennsylvania (BA, BS)\n",
    "Title\t\n",
    "Founder, CEO, and chief engineer of SpaceX\n",
    "CEO and product architect of Tesla, Inc.\n",
    "Owner, CTO and Executive Chairman of X (formerly Twitter)\n",
    "President of the Musk Foundation\n",
    "Founder of The Boring Company, X Corp., and xAI\n",
    "Co-founder of Neuralink, OpenAI, Zip2, and X.com (part of PayPal)\n",
    "Spouses\t\n",
    "Justine Wilson\n",
    "​\n",
    "​(m. 2000; div. 2008)​\n",
    "Talulah Riley\n",
    "​\n",
    "​(m. 2010; div. 2012)​\n",
    "​\n",
    "​(m. 2013; div. 2016)\n",
    "\"\"\""
   ]
  },
  {
   "cell_type": "code",
   "execution_count": 11,
   "id": "34452551-1ab6-4983-8e85-d31ca3e82de8",
   "metadata": {},
   "outputs": [],
   "source": [
    "age_pattern = r\"\\bage (\\d+)\\b\""
   ]
  },
  {
   "cell_type": "code",
   "execution_count": 12,
   "id": "4c933635-26e7-48b5-8682-e3f05a894df4",
   "metadata": {},
   "outputs": [
    {
     "data": {
      "text/plain": [
       "['53']"
      ]
     },
     "execution_count": 12,
     "metadata": {},
     "output_type": "execute_result"
    }
   ],
   "source": [
    "age = re.findall(age_pattern, text)\n",
    "age"
   ]
  },
  {
   "cell_type": "code",
   "execution_count": 13,
   "id": "9327974c-2c80-4392-a151-71193e8ccfaa",
   "metadata": {},
   "outputs": [],
   "source": [
    "name_pattern = r\"\\bBorn(.*)\\b\""
   ]
  },
  {
   "cell_type": "code",
   "execution_count": 14,
   "id": "5ee0fba5-3d22-4d9c-bbbc-f7f8f362aa06",
   "metadata": {},
   "outputs": [
    {
     "data": {
      "text/plain": [
       "'Elon Reeve Musk'"
      ]
     },
     "execution_count": 14,
     "metadata": {},
     "output_type": "execute_result"
    }
   ],
   "source": [
    "name = re.findall(name_pattern, text)\n",
    "name[0].strip()"
   ]
  },
  {
   "cell_type": "code",
   "execution_count": 15,
   "id": "a3f36c68-e85f-4449-8ea7-9939718c4dbf",
   "metadata": {},
   "outputs": [],
   "source": [
    "dob_pattern = r\"Born.*\\n(.*)\\(age\""
   ]
  },
  {
   "cell_type": "code",
   "execution_count": 16,
   "id": "81f18ce4-fd6f-4b93-b223-31a822a11743",
   "metadata": {},
   "outputs": [
    {
     "data": {
      "text/plain": [
       "['June 28, 1971 ']"
      ]
     },
     "execution_count": 16,
     "metadata": {},
     "output_type": "execute_result"
    }
   ],
   "source": [
    "dob = re.findall(dob_pattern, text)\n",
    "dob"
   ]
  },
  {
   "cell_type": "code",
   "execution_count": 17,
   "id": "ae49aa9b-e750-49db-a3bb-752b24f7d6ea",
   "metadata": {},
   "outputs": [],
   "source": [
    "place_of_birth_pattern = r\"age \\d+.\\n(.*)\""
   ]
  },
  {
   "cell_type": "code",
   "execution_count": 18,
   "id": "6f9024a5-3f7b-4bf6-a066-919fab445d23",
   "metadata": {},
   "outputs": [
    {
     "data": {
      "text/plain": [
       "['Pretoria, Transvaal, South Africa']"
      ]
     },
     "execution_count": 18,
     "metadata": {},
     "output_type": "execute_result"
    }
   ],
   "source": [
    "place_of_birth = re.findall(place_of_birth_pattern, text)\n",
    "place_of_birth"
   ]
  },
  {
   "cell_type": "code",
   "execution_count": null,
   "id": "788c1e3a-6584-42ea-aa5e-bb3d3927f77e",
   "metadata": {},
   "outputs": [],
   "source": []
  }
 ],
 "metadata": {
  "kernelspec": {
   "display_name": "Python 3 (ipykernel)",
   "language": "python",
   "name": "python3"
  },
  "language_info": {
   "codemirror_mode": {
    "name": "ipython",
    "version": 3
   },
   "file_extension": ".py",
   "mimetype": "text/x-python",
   "name": "python",
   "nbconvert_exporter": "python",
   "pygments_lexer": "ipython3",
   "version": "3.12.3"
  }
 },
 "nbformat": 4,
 "nbformat_minor": 5
}
