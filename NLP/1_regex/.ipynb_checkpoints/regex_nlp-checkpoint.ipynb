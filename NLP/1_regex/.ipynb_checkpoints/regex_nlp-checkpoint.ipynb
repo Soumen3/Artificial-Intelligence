{
 "cells": [
  {
   "cell_type": "code",
   "execution_count": 1,
   "id": "e74c499d-9de2-4675-abbe-b3e65b381f01",
   "metadata": {},
   "outputs": [],
   "source": [
    "import re"
   ]
  },
  {
   "cell_type": "code",
   "execution_count": 2,
   "id": "47fb1b41-8408-48c5-b885-8d86ecfb4350",
   "metadata": {},
   "outputs": [],
   "source": [
    "text =\"\"\"\n",
    "    Hi there,\n",
    "    \n",
    "    My name is John Doe, and I recently applied for the Software Developer position at your company. I wanted to follow up on my application and provide additional contact information.\n",
    "    \n",
    "    You can reach me at (123)-456-7890 or my alternative number 987-654-3210 or you can contact me at 9876543210. If you prefer email, feel free to send a message to john.doe@example.com.\n",
    "    \n",
    "    Looking forward to hearing from you.\n",
    "    \n",
    "    Best regards,  \n",
    "    John Doe\n",
    "\"\"\""
   ]
  },
  {
   "cell_type": "markdown",
   "id": "ce05f3bb-2fc3-4f60-b90c-9bccf2939545",
   "metadata": {},
   "source": [
    "### Find the phone numbers from the text"
   ]
  },
  {
   "cell_type": "code",
   "execution_count": 3,
   "id": "63b3301f-1cb5-461f-98dc-c97222169e6f",
   "metadata": {},
   "outputs": [],
   "source": [
    "pattern = r\"\\d{10}|\\(\\d{3}\\)-\\d{3}-\\d{4}|\\d{3}-\\d{3}-\\d{4}\""
   ]
  },
  {
   "cell_type": "code",
   "execution_count": 4,
   "id": "b8ee116e-d3a3-408c-9def-36fdc4204f67",
   "metadata": {},
   "outputs": [
    {
     "data": {
      "text/plain": [
       "['(123)-456-7890', '987-654-3210', '9876543210']"
      ]
     },
     "execution_count": 4,
     "metadata": {},
     "output_type": "execute_result"
    }
   ],
   "source": [
    "matches = re.findall(pattern, text)\n",
    "matches"
   ]
  },
  {
   "cell_type": "markdown",
   "id": "22ed60bf-fcbe-4292-a6fb-71f916244d51",
   "metadata": {},
   "source": [
    "### Find the email address from the text"
   ]
  },
  {
   "cell_type": "code",
   "execution_count": 5,
   "id": "d9278abf-0906-4568-99dd-4dc3146b2b23",
   "metadata": {},
   "outputs": [],
   "source": [
    "pattern = r\"\\b[A-Za-z0-9._%+-]+@[A-Z|a-z]+\\.[A-Z|a-z]{2,}\\b\""
   ]
  },
  {
   "cell_type": "code",
   "execution_count": 6,
   "id": "95b32ec5-ce8e-4b02-8576-2aa6dc9d20c3",
   "metadata": {},
   "outputs": [
    {
     "data": {
      "text/plain": [
       "['john.doe@example.com']"
      ]
     },
     "execution_count": 6,
     "metadata": {},
     "output_type": "execute_result"
    }
   ],
   "source": [
    "emails = re.findall(pattern,text)\n",
    "emails"
   ]
  },
  {
   "cell_type": "code",
   "execution_count": null,
   "id": "65347642-770e-4a45-909f-6f3f51b5284b",
   "metadata": {},
   "outputs": [],
   "source": []
  }
 ],
 "metadata": {
  "kernelspec": {
   "display_name": "Python 3 (ipykernel)",
   "language": "python",
   "name": "python3"
  },
  "language_info": {
   "codemirror_mode": {
    "name": "ipython",
    "version": 3
   },
   "file_extension": ".py",
   "mimetype": "text/x-python",
   "name": "python",
   "nbconvert_exporter": "python",
   "pygments_lexer": "ipython3",
   "version": "3.12.3"
  }
 },
 "nbformat": 4,
 "nbformat_minor": 5
}
